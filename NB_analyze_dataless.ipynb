{
 "cells": [
  {
   "cell_type": "code",
   "execution_count": null,
   "metadata": {},
   "outputs": [],
   "source": [
    "%reset -f\n",
    "\n",
    "import os\n",
    "import sys\n",
    "import numpy as np\n",
    "import pandas as pd\n",
    "\n",
    "from itertools import cycle # cycle over colors on plots\n",
    "\n",
    "# matplotlib lib to plot things\n",
    "import matplotlib.pyplot as plt\n",
    "from matplotlib.dates import date2num\n",
    "\n",
    "#obspy libs\n",
    "from obspy.core import read\n",
    "from obspy.core import UTCDateTime\n",
    "from obspy import read_inventory\n",
    "from obspy import Stream, Trace\n",
    "import obspy.signal\n",
    "from obspy.core.util.obspy_types import ZeroSamplingRate\n",
    "from obspy.io.xseed import Parser\n",
    "from obspy.signal.invsim import paz_to_freq_resp\n",
    "\n",
    "# Read channel properties files\n",
    "from modules.core.aspic_channel import read_csv_panda\n",
    "from modules.calibration import *\n",
    "\n",
    "try:\n",
    "    from MarsConverter import *\n",
    "except:\n",
    "    sys.exit(\"Please install Marsconverter first.\")\n",
    "\n",
    "########################################\n",
    "#\n",
    "#      MAIN PART\n",
    "#\n",
    "########################################\n",
    "\n",
    "dataless_ELYSE = \"./dataless/dataless.XB.ELYSE.seed\"  # Full Sci dataless -> May be heavy to load\n",
    "dataless_ELYHK = \"./dataless/dataless.XB.ELYHK.seed\"  # Full HK  dataless -> May be heavy to load\n",
    "\n",
    "inv_sci = read_inventory(dataless_ELYSE)\n",
    "#inv_hk  = read_inventory(dataless_ELYHK)\n",
    "\n",
    "# Select which dataless you want to play with\n",
    "inv_seed = inv_sci"
   ]
  },
  {
   "cell_type": "markdown",
   "metadata": {},
   "source": [
    "## "
   ]
  },
  {
   "cell_type": "code",
   "execution_count": null,
   "metadata": {},
   "outputs": [],
   "source": [
    "# Don't modify this\n",
    "propertiesFile = './configuration/channel.properties2.0.csv'\n",
    "\n",
    "# read the properties file and fill a panda structure \n",
    "channel_properties_list_pd = read_csv_panda(propertiesFile, ';')\n",
    "\n",
    "# Select the data according to the parameters\n",
    "chanlist_sci = channel_properties_list_pd.loc[channel_properties_list_pd[\"detector\"].isin([\"ThermalSensor\"])]\n",
    "chanlist_sci.head()"
   ]
  },
  {
   "cell_type": "code",
   "execution_count": null,
   "metadata": {},
   "outputs": [],
   "source": [
    "########################################\n",
    "# INFO about channel\n",
    "chan_loc = \"02\"\n",
    "chan_name = 'BHU'\n",
    "station_name = \"ELYSE\"\n",
    "\n",
    "########################################\n",
    "#  MarsConverter part if needed\n",
    "landerproperties = '../configuration/landerconfig.xml'\n",
    "mDate = MarsConverter(landerproperties)\n",
    "marsDateNow = mDate.get_utc_2_lmst()\n",
    "posT = marsDateNow.find('T')\n",
    "#print(\"Today, it is \", marsDateNow, \"from \", \n",
    "#      str(mDate.get_lmst_to_utc(lmst_date=int(marsDateNow[:posT]))), \n",
    "#      \" UTC to \", \n",
    "#      str(mDate.get_lmst_to_utc(lmst_date=(int(marsDateNow[:posT])+1))))\n",
    "\n",
    "########################################\n",
    "# Step to get UTC from LMST time\n",
    "sol = 1125\n",
    "\n",
    "print(\"\\n*********************\")\n",
    "print(\"Sol selected : \", sol, \"from \", \n",
    "      str(mDate.get_lmst_to_utc(lmst_date=sol)), \n",
    "      \" UTC to \", \n",
    "      str(mDate.get_lmst_to_utc(lmst_date=sol+1)))\n",
    "print(\"\\n*********************\")\n",
    "starttime_sol = str(mDate.get_lmst_to_utc(lmst_date=sol))\n",
    "endtime_sol = str(mDate.get_lmst_to_utc(lmst_date=sol+1))"
   ]
  },
  {
   "cell_type": "code",
   "execution_count": 11,
   "metadata": {},
   "outputs": [
    {
     "name": "stdout",
     "output_type": "stream",
     "text": [
      "Response type: PolesZerosResponseStage, Stage Sequence Number: 1\n",
      "\tXB.ELYSE.02BHU.2021.329.03.06.14 \n",
      "\tFrom M/S (VELOCITY in Meters Per Second) to V\n",
      "\tStage gain: 257082.0, defined at 0.10 Hz\n",
      "\tTransfer function type: LAPLACE (RADIANS/SECOND)\n",
      "\tNormalization factor: 80.2887, Normalization frequency: 0.10 Hz\n",
      "\tPoles: (-46.7264+73.9273j), (-46.7264-73.9273j), (-11.7674+0j), (-0.243358+0.30515j), (-0.243358-0.30515j)\n",
      "\tZeros: 0j, 0j, (-109.316+0j), (-10.1317+0j)\n",
      "Response type: CoefficientsTypeResponseStage, Stage Sequence Number: 2\n",
      "\tFrom V to COUNTS\n",
      "\tStage gain: 335544.0, defined at 0.00 Hz\n",
      "\tDecimation:\n",
      "\t\tInput Sample Rate: 500.00 Hz\n",
      "\t\tDecimation Factor: 1\n",
      "\t\tDecimation Offset: 0\n",
      "\t\tDecimation Delay: 0.00\n",
      "\t\tDecimation Correction: 0.00\n",
      "\tTransfer function type: DIGITAL\n",
      "\tContains 0 numerators and 0 denominators\n",
      "Response type: FIRResponseStage, Stage Sequence Number: 3\n",
      "\tXB.ELYSE.02.BHU.2021.329.03.06.14.stage_2 \n",
      "\tFrom COUNTS to COUNTS\n",
      "\tStage gain: 1.0, defined at 0.00 Hz\n",
      "\tDecimation:\n",
      "\t\tInput Sample Rate: 500.00 Hz\n",
      "\t\tDecimation Factor: 1\n",
      "\t\tDecimation Offset: 0\n",
      "\t\tDecimation Delay: 0.00\n",
      "\t\tDecimation Correction: 0.00\n",
      "Response type: FIRResponseStage, Stage Sequence Number: 4\n",
      "\tXB.ELYSE.02.BHU.2021.329.03.06.14.stage_3 \n",
      "\tFrom COUNTS to COUNTS\n",
      "\tStage gain: 1.0, defined at 0.00 Hz\n",
      "\tDecimation:\n",
      "\t\tInput Sample Rate: 500.00 Hz\n",
      "\t\tDecimation Factor: 5\n",
      "\t\tDecimation Offset: 0\n",
      "\t\tDecimation Delay: 0.24\n",
      "\t\tDecimation Correction: 0.00\n",
      "Response type: FIRResponseStage, Stage Sequence Number: 5\n",
      "\tXB.ELYSE.02.BHU.2021.329.03.06.14.stage_4 \n",
      "\tFrom COUNTS to COUNTS\n",
      "\tStage gain: 1.0, defined at 0.00 Hz\n",
      "\tDecimation:\n",
      "\t\tInput Sample Rate: 100.00 Hz\n",
      "\t\tDecimation Factor: 5\n",
      "\t\tDecimation Offset: 0\n",
      "\t\tDecimation Delay: 1.44\n",
      "\t\tDecimation Correction: 0.00\n"
     ]
    }
   ],
   "source": [
    "#print(inv_seed[0]._stations[0])\n",
    "for sta in inv_sci[0]._stations:\n",
    "    for cha in sta.channels:\n",
    "        #print(\"channel: \", cha._code, \" location: \", cha._location_code)\n",
    "        if cha._code == chan_name and cha._location_code == chan_loc:\n",
    "            for resp in cha.response.response_stages:\n",
    "                print(resp)\n",
    "                "
   ]
  },
  {
   "cell_type": "markdown",
   "metadata": {},
   "source": [
    "## Part to print the different stage of the selected channel"
   ]
  },
  {
   "cell_type": "code",
   "execution_count": 12,
   "metadata": {},
   "outputs": [
    {
     "name": "stdout",
     "output_type": "stream",
     "text": [
      "===========================\n",
      "Stages for 02  -  BHU\n",
      "__________________________\n",
      "Sensitivity object: \n",
      "Input units:  M/S\n",
      "Output units:  COUNTS\n",
      "\t stage sequence number:  1\n",
      "\t +++++++++++++++++++++++++++++++++++++++++++++++++++++\n",
      "Response type: PolesZerosResponseStage, Stage Sequence Number: 1\n",
      "\tXB.ELYSE.02BHU.2021.329.03.06.14 \n",
      "\tFrom M/S (VELOCITY in Meters Per Second) to V\n",
      "\tStage gain: 257082.0, defined at 0.10 Hz\n",
      "\tTransfer function type: LAPLACE (RADIANS/SECOND)\n",
      "\tNormalization factor: 80.2887, Normalization frequency: 0.10 Hz\n",
      "\tPoles: (-46.7264+73.9273j), (-46.7264-73.9273j), (-11.7674+0j), (-0.243358+0.30515j), (-0.243358-0.30515j)\n",
      "\tZeros: 0j, 0j, (-109.316+0j), (-10.1317+0j)\n",
      "poles: [(-46.7264+73.9273j), (-46.7264-73.9273j), (-11.7674+0j), (-0.243358+0.30515j), (-0.243358-0.30515j)] \n",
      " zeros: [0j, 0j, (-109.316+0j), (-10.1317+0j)]\n",
      "\t stage sequence number:  2\n",
      "\t +++++++++++++++++++++++++++++++++++++++++++++++++++++\n",
      "Response type: CoefficientsTypeResponseStage, Stage Sequence Number: 2\n",
      "\tFrom V to COUNTS\n",
      "\tStage gain: 335544.0, defined at 0.00 Hz\n",
      "\tDecimation:\n",
      "\t\tInput Sample Rate: 500.00 Hz\n",
      "\t\tDecimation Factor: 1\n",
      "\t\tDecimation Offset: 0\n",
      "\t\tDecimation Delay: 0.00\n",
      "\t\tDecimation Correction: 0.00\n",
      "\tTransfer function type: DIGITAL\n",
      "\tContains 0 numerators and 0 denominators\n",
      "\t stage sequence number:  3\n",
      "\t +++++++++++++++++++++++++++++++++++++++++++++++++++++\n",
      "Response type: FIRResponseStage, Stage Sequence Number: 3\n",
      "\tXB.ELYSE.02.BHU.2021.329.03.06.14.stage_2 \n",
      "\tFrom COUNTS to COUNTS\n",
      "\tStage gain: 1.0, defined at 0.00 Hz\n",
      "\tDecimation:\n",
      "\t\tInput Sample Rate: 500.00 Hz\n",
      "\t\tDecimation Factor: 1\n",
      "\t\tDecimation Offset: 0\n",
      "\t\tDecimation Delay: 0.00\n",
      "\t\tDecimation Correction: 0.00\n",
      "\t stage sequence number:  4\n",
      "\t +++++++++++++++++++++++++++++++++++++++++++++++++++++\n",
      "Response type: FIRResponseStage, Stage Sequence Number: 4\n",
      "\tXB.ELYSE.02.BHU.2021.329.03.06.14.stage_3 \n",
      "\tFrom COUNTS to COUNTS\n",
      "\tStage gain: 1.0, defined at 0.00 Hz\n",
      "\tDecimation:\n",
      "\t\tInput Sample Rate: 500.00 Hz\n",
      "\t\tDecimation Factor: 5\n",
      "\t\tDecimation Offset: 0\n",
      "\t\tDecimation Delay: 0.24\n",
      "\t\tDecimation Correction: 0.00\n",
      "\t stage sequence number:  5\n",
      "\t +++++++++++++++++++++++++++++++++++++++++++++++++++++\n",
      "Response type: FIRResponseStage, Stage Sequence Number: 5\n",
      "\tXB.ELYSE.02.BHU.2021.329.03.06.14.stage_4 \n",
      "\tFrom COUNTS to COUNTS\n",
      "\tStage gain: 1.0, defined at 0.00 Hz\n",
      "\tDecimation:\n",
      "\t\tInput Sample Rate: 100.00 Hz\n",
      "\t\tDecimation Factor: 5\n",
      "\t\tDecimation Offset: 0\n",
      "\t\tDecimation Delay: 1.44\n",
      "\t\tDecimation Correction: 0.00\n"
     ]
    }
   ],
   "source": [
    "print_stage(inv_sci, station_name, chan_loc, chan_name, starttime = starttime_sol, endtime = endtime_sol)"
   ]
  },
  {
   "cell_type": "markdown",
   "metadata": {
    "heading_collapsed": true
   },
   "source": [
    "## Get the FIR numerators of the channel"
   ]
  },
  {
   "cell_type": "code",
   "execution_count": 13,
   "metadata": {
    "hidden": true
   },
   "outputs": [
    {
     "name": "stdout",
     "output_type": "stream",
     "text": [
      "2 []\n",
      "4 []\n",
      "5 []\n"
     ]
    }
   ],
   "source": [
    "# Stage Sequence Number\n",
    "SSN = [2,4,5]\n",
    "for S in SSN:\n",
    "    FIR_Coeff = get_FIR_numerators(inv_seed, station_name, chan_name, chan_loc, S)\n",
    "    print(S, FIR_Coeff)"
   ]
  },
  {
   "cell_type": "markdown",
   "metadata": {
    "heading_collapsed": true
   },
   "source": [
    "## Plot FIR filter response"
   ]
  },
  {
   "cell_type": "code",
   "execution_count": 15,
   "metadata": {
    "hidden": true
   },
   "outputs": [
    {
     "name": "stderr",
     "output_type": "stream",
     "text": [
      "/var/folders/m8/kd1v12t913l034cjsr62x1h80000gn/T/ipykernel_2387/847821574.py:15: RuntimeWarning: divide by zero encountered in log10\n",
      "  plt.plot(w, 20 * np.log10(abs(h)), 'b')\n"
     ]
    },
    {
     "data": {
      "image/png": "[encoded data removed]",
      "text/plain": [
       "<Figure size 432x288 with 3 Axes>"
      ]
     },
     "metadata": {
      "needs_background": "light"
     },
     "output_type": "display_data"
    }
   ],
   "source": [
    "from scipy import signal\n",
    "\n",
    "FIR_Coeff = get_FIR_numerators(inv_seed, station_name, chan_name, chan_loc, 2)\n",
    "\n",
    "w, h = signal.freqz(FIR_Coeff)\n",
    "\n",
    "import matplotlib.pyplot as plt\n",
    "%matplotlib inline\n",
    "\n",
    "fig = plt.figure()\n",
    "plt.title('Digital filter frequency response')\n",
    "ax1 = fig.add_subplot(111)\n",
    "\n",
    "\n",
    "plt.plot(w, 20 * np.log10(abs(h)), 'b')\n",
    "plt.ylabel('Amplitude [dB]', color='b')\n",
    "plt.xlabel('Frequency [rad/sample]')\n",
    "\n",
    "\n",
    "ax2 = ax1.twinx()\n",
    "angles = np.unwrap(np.angle(h))\n",
    "plt.plot(w, angles, 'g')\n",
    "plt.ylabel('Angle (radians)', color='g')\n",
    "plt.grid()\n",
    "plt.axis('tight')\n",
    "plt.show()"
   ]
  },
  {
   "cell_type": "markdown",
   "metadata": {
    "heading_collapsed": true
   },
   "source": [
    "## Get the Pole and Zeros of the channel"
   ]
  },
  {
   "cell_type": "code",
   "execution_count": 16,
   "metadata": {
    "hidden": true
   },
   "outputs": [
    {
     "name": "stdout",
     "output_type": "stream",
     "text": [
      "poles: [(-46.7264+73.9273j), (-46.7264-73.9273j), (-11.7674+0j), (-0.243358+0.30515j), (-0.243358-0.30515j)]\n",
      "poles: [0j, 0j, (-109.316+0j), (-10.1317+0j)]\n"
     ]
    }
   ],
   "source": [
    "paz = []\n",
    "paz = get_paz(inv_seed, chan_name, chan_loc, station_name)\n",
    "if paz is not None:\n",
    "    print(\"poles:\", paz[0])\n",
    "    print(\"poles:\", paz[1])"
   ]
  },
  {
   "cell_type": "markdown",
   "metadata": {
    "heading_collapsed": true
   },
   "source": [
    "## Get Dip and Azimuth infos"
   ]
  },
  {
   "cell_type": "code",
   "execution_count": 17,
   "metadata": {
    "hidden": true
   },
   "outputs": [
    {
     "name": "stdout",
     "output_type": "stream",
     "text": [
      "{'dip': '-29.4', 'azimuth': '135.1'}\n",
      "{'dip': '-29.2', 'azimuth': '15.0'}\n",
      "{'dip': '-29.7', 'azimuth': '255.0'}\n"
     ]
    }
   ],
   "source": [
    "print(get_dip_azimuth(inv_seed, station_name, \"02\", \"MHU\"))\n",
    "print(get_dip_azimuth(inv_seed, station_name, \"02\", \"MHV\"))\n",
    "print(get_dip_azimuth(inv_seed, station_name, \"02\", \"MHW\"))"
   ]
  },
  {
   "cell_type": "markdown",
   "metadata": {},
   "source": [
    "## Plot the PAZ transfer function"
   ]
  },
  {
   "cell_type": "code",
   "execution_count": 21,
   "metadata": {},
   "outputs": [
    {
     "data": {
      "image/png": "[encoded data removed]",
      "text/plain": [
       "<Figure size 432x288 with 2 Axes>"
      ]
     },
     "metadata": {
      "needs_background": "light"
     },
     "output_type": "display_data"
    }
   ],
   "source": [
    "plot_paz(inv_seed, station_name, chan_loc, chan_name)"
   ]
  },
  {
   "cell_type": "markdown",
   "metadata": {
    "heading_collapsed": true
   },
   "source": [
    "## Polynomial calibration"
   ]
  },
  {
   "cell_type": "code",
   "execution_count": 22,
   "metadata": {
    "hidden": true
   },
   "outputs": [
    {
     "name": "stdout",
     "output_type": "stream",
     "text": [
      "02/BHU None\n",
      "Coefficients:  [  1.64830720e+05   1.97304280e-02]\n"
     ]
    },
    {
     "data": {
      "image/png": "[encoded data removed]",
      "text/plain": [
       "<Figure size 432x288 with 1 Axes>"
      ]
     },
     "metadata": {
      "needs_background": "light"
     },
     "output_type": "display_data"
    }
   ],
   "source": [
    "ytitle = \"toto\"\n",
    "xtitle = \"Counts\"\n",
    "title  = \"Mac Laurin coeff of channel {}-{}\".format(chan_loc, chan_name)\n",
    "\n",
    "start = -4500000.\n",
    "end   = -2500000.\n",
    "step  = 10\n",
    "\n",
    "coeffML = get_coeff_poly_resp_stage(inv_seed, station_name, chan_loc, chan_name, \n",
    "\t\t\t\t\t\t\t  starttime=None, endtime=None)\n",
    "\n",
    "print(f\"{chan_loc}/{chan_name} {coeffML}\")\n",
    "\n",
    "coeffML = np.multiply(np.array([6.1504, 7.3621e-7]), 2.68e+4)\n",
    "#coeffML = np.multiply(np.array([1.]), 2.68e+2)\n",
    "\n",
    "if coeffML is not None and len(coeffML)>0: \n",
    "    print(\"Coefficients: \", coeffML)\n",
    "\n",
    "# Plot of the polynomial function\n",
    "if coeffML is not None and len(coeffML)>0: \n",
    "    plot_maclaurin(coeffML, start, end, step, xtitle, ytitle, title)\n",
    "else:\n",
    "    print(\"It seems, there is no Polynomial coef for {}-{}\".format(chan_loc, chan_name))"
   ]
  },
  {
   "cell_type": "markdown",
   "metadata": {
    "heading_collapsed": true
   },
   "source": [
    "## To plot the transfer function"
   ]
  },
  {
   "cell_type": "code",
   "execution_count": 24,
   "metadata": {
    "hidden": true
   },
   "outputs": [
    {
     "ename": "NameError",
     "evalue": "name 'channel_list' is not defined",
     "output_type": "error",
     "traceback": [
      "\u001b[0;31m---------------------------------------------------------------------------\u001b[0m",
      "\u001b[0;31mNameError\u001b[0m                                 Traceback (most recent call last)",
      "\u001b[0;32m/var/folders/m8/kd1v12t913l034cjsr62x1h80000gn/T/ipykernel_2387/3311493049.py\u001b[0m in \u001b[0;36m<module>\u001b[0;34m\u001b[0m\n\u001b[0;32m----> 1\u001b[0;31m \u001b[0mfigs\u001b[0m\u001b[0;34m,\u001b[0m \u001b[0maxs\u001b[0m \u001b[0;34m=\u001b[0m \u001b[0mplot_responses\u001b[0m\u001b[0;34m(\u001b[0m\u001b[0minv_seed\u001b[0m\u001b[0;34m,\u001b[0m \u001b[0mchannel_list\u001b[0m\u001b[0;34m,\u001b[0m \u001b[0moutput\u001b[0m\u001b[0;34m,\u001b[0m \u001b[0mmin_freq\u001b[0m\u001b[0;34m)\u001b[0m\u001b[0;34m\u001b[0m\u001b[0;34m\u001b[0m\u001b[0m\n\u001b[0m\u001b[1;32m      2\u001b[0m \u001b[0mplt\u001b[0m\u001b[0;34m.\u001b[0m\u001b[0mshow\u001b[0m\u001b[0;34m(\u001b[0m\u001b[0;34m)\u001b[0m\u001b[0;34m\u001b[0m\u001b[0;34m\u001b[0m\u001b[0m\n",
      "\u001b[0;31mNameError\u001b[0m: name 'channel_list' is not defined"
     ]
    }
   ],
   "source": [
    "#figs, axs = plot_responses(inv_seed, channel_list, output, min_freq)\n",
    "#plt.show()"
   ]
  }
 ],
 "metadata": {
  "kernelspec": {
   "display_name": "Python 3 (ipykernel)",
   "language": "python",
   "name": "python3"
  },
  "language_info": {
   "codemirror_mode": {
    "name": "ipython",
    "version": 3
   },
   "file_extension": ".py",
   "mimetype": "text/x-python",
   "name": "python",
   "nbconvert_exporter": "python",
   "pygments_lexer": "ipython3",
   "version": "3.8.5"
  },
  "toc": {
   "base_numbering": 1,
   "nav_menu": {},
   "number_sections": true,
   "sideBar": true,
   "skip_h1_title": false,
   "title_cell": "Table of Contents",
   "title_sidebar": "Contents",
   "toc_cell": false,
   "toc_position": {},
   "toc_section_display": true,
   "toc_window_display": false
  }
 },
 "nbformat": 4,
 "nbformat_minor": 4
}
